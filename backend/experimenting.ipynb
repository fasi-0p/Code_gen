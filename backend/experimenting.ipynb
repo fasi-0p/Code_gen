{
 "cells": [
  {
   "cell_type": "code",
   "execution_count": 1,
   "id": "d77e0a2a",
   "metadata": {},
   "outputs": [
    {
     "ename": "AttributeError",
     "evalue": "type object 'tree_sitter.Language' has no attribute 'build_library'",
     "output_type": "error",
     "traceback": [
      "\u001b[31m---------------------------------------------------------------------------\u001b[39m",
      "\u001b[31mAttributeError\u001b[39m                            Traceback (most recent call last)",
      "\u001b[36mCell\u001b[39m\u001b[36m \u001b[39m\u001b[32mIn[1]\u001b[39m\u001b[32m, line 2\u001b[39m\n\u001b[32m      1\u001b[39m \u001b[38;5;28;01mfrom\u001b[39;00m\u001b[38;5;250m \u001b[39m\u001b[34;01mtree_sitter\u001b[39;00m\u001b[38;5;250m \u001b[39m\u001b[38;5;28;01mimport\u001b[39;00m Language\n\u001b[32m----> \u001b[39m\u001b[32m2\u001b[39m \u001b[43mLanguage\u001b[49m\u001b[43m.\u001b[49m\u001b[43mbuild_library\u001b[49m(\n\u001b[32m      3\u001b[39m   \u001b[33m'\u001b[39m\u001b[33mbuild/my-languages.so\u001b[39m\u001b[33m'\u001b[39m,\n\u001b[32m      4\u001b[39m   [\n\u001b[32m      5\u001b[39m     \u001b[33m'\u001b[39m\u001b[33mvendor/tree-sitter-java\u001b[39m\u001b[33m'\u001b[39m,\n\u001b[32m      6\u001b[39m     \u001b[33m'\u001b[39m\u001b[33mvendor/tree-sitter-cpp\u001b[39m\u001b[33m'\u001b[39m\n\u001b[32m      7\u001b[39m   ]\n\u001b[32m      8\u001b[39m )\n",
      "\u001b[31mAttributeError\u001b[39m: type object 'tree_sitter.Language' has no attribute 'build_library'"
     ]
    }
   ],
   "source": [
    "from tree_sitter import Language\n",
    "Language.build_library(\n",
    "  'build/my-languages.so',\n",
    "  [\n",
    "    'vendor/tree-sitter-java',\n",
    "    'vendor/tree-sitter-cpp'\n",
    "  ]\n",
    ")"
   ]
  }
 ],
 "metadata": {
  "kernelspec": {
   "display_name": "Python 3",
   "language": "python",
   "name": "python3"
  },
  "language_info": {
   "codemirror_mode": {
    "name": "ipython",
    "version": 3
   },
   "file_extension": ".py",
   "mimetype": "text/x-python",
   "name": "python",
   "nbconvert_exporter": "python",
   "pygments_lexer": "ipython3",
   "version": "3.11.9"
  }
 },
 "nbformat": 4,
 "nbformat_minor": 5
}
